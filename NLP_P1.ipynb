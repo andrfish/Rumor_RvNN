{
  "nbformat": 4,
  "nbformat_minor": 0,
  "metadata": {
    "colab": {
      "name": "NLP-P1.ipynb",
      "version": "0.3.2",
      "provenance": [],
      "collapsed_sections": [],
      "include_colab_link": true
    },
    "kernelspec": {
      "name": "python3",
      "display_name": "Python 3"
    },
    "accelerator": "GPU"
  },
  "cells": [
    {
      "cell_type": "markdown",
      "metadata": {
        "id": "view-in-github",
        "colab_type": "text"
      },
      "source": [
        "<a href=\"https://colab.research.google.com/github/andrfish/Rumor_RvNN/blob/master/NLP_P1.ipynb\" target=\"_parent\"><img src=\"https://colab.research.google.com/assets/colab-badge.svg\" alt=\"Open In Colab\"/></a>"
      ]
    },
    {
      "cell_type": "code",
      "metadata": {
        "id": "ba_2KM6DA1k6",
        "colab_type": "code",
        "colab": {
          "base_uri": "https://localhost:8080/",
          "height": 34
        },
        "outputId": "9a07b8ca-c71f-4082-a2d0-ec6dce0c5a9c"
      },
      "source": [
        "# Upload all of the files from git then run this code block\n",
        "!mkdir resource model nfold\n",
        "!mv -t model BU_RvNN.py TD_RvNN.py Main_BU_RvNN.py Main_TD_RvNN.py evaluate.py\n",
        "!mv -t nfold RNNtestSet_Twitter150_tree.txt RNNtestSet_Twitter151_tree.txt RNNtestSet_Twitter152_tree.txt RNNtestSet_Twitter153_tree.txt  RNNtestSet_Twitter154_tree.txt RNNtestSet_Twitter160_tree.txt RNNtestSet_Twitter161_tree.txt RNNtestSet_Twitter162_tree.txt RNNtestSet_Twitter163_tree.txt RNNtestSet_Twitter164_tree.txt RNNtrainSet_Twitter150_tree.txt RNNtrainSet_Twitter151_tree.txt RNNtrainSet_Twitter152_tree.txt RNNtrainSet_Twitter153_tree.txt RNNtrainSet_Twitter154_tree.txt RNNtrainSet_Twitter160_tree.txt RNNtrainSet_Twitter161_tree.txt RNNtrainSet_Twitter162_tree.txt RNNtrainSet_Twitter163_tree.txt RNNtrainSet_Twitter164_tree.txt\n",
        "!mv -t resource data.BU_RvNN.vol_5000.txt data.TD_RvNN.vol_5000.txt Twitter15_label_All.txt Twitter16_label_All.txt"
      ],
      "execution_count": 1,
      "outputs": [
        {
          "output_type": "stream",
          "text": [
            "mv: 'model/evaluate.py' and 'model/evaluate.py' are the same file\n"
          ],
          "name": "stdout"
        }
      ]
    },
    {
      "cell_type": "code",
      "metadata": {
        "id": "prQ0eVonBTRK",
        "colab_type": "code",
        "outputId": "fb40b9da-90fa-4bcd-a7e5-ab4b5e45db8e",
        "colab": {
          "base_uri": "https://localhost:8080/",
          "height": 440
        }
      },
      "source": [
        "# Then, run this code block to run the top-down algorithm script\n",
        "%cd /content/model/\n",
        "!python Main_TD_RvNN.py"
      ],
      "execution_count": 0,
      "outputs": [
        {
          "output_type": "stream",
          "text": [
            "/content/model\n",
            "BU_RvNN.py   Main_BU_RvNN.py  __pycache__\n",
            "evaluate.py  Main_TD_RvNN.py  TD_RvNN.py\n",
            "loading tree label\n",
            "1490\n",
            "reading tree\n",
            "tree no: 3098\n",
            "loading train set\n",
            "300 296 298 300\n",
            "loading test set\n",
            "74 74 74 74\n",
            "train no: 1194 1194 1194 1194 1194\n",
            "test no: 296 296 296 296 296\n",
            "dim1 for 0: 79 80 79\n",
            "case 0: [0 2] [1. 1. 2. 1. 1. 2. 1. 1. 1. 1. 1. 1. 1. 1. 0. 0. 0. 0. 0. 0. 0. 0. 0. 0.\n",
            " 0.] [  32   16    3    4    5    1  138    7 2028   48  369  372  278  413\n",
            "    0    0    0    0    0    0    0    0    0    0    0] 3\n",
            "/content/model/TD_RvNN.py:231: UserWarning: DEPRECATION: If x is a vector, Softmax will not automatically pad x anymore in next releases. If you need it, please do it manually. The vector case is gonna be supported soon and the output will be a vector.\n",
            "  return T.nnet.softmax( self.W_out.dot(final_state)+ self.b_out )\n",
            "WARNING (theano.tensor.blas): We did not find a dynamic library in the library_dir of the library we use for blas. If you use ATLAS, make sure to compile it with dynamics library.\n",
            "WARNING (theano.tensor.blas): We did not find a dynamic library in the library_dir of the library we use for blas. If you use ATLAS, make sure to compile it with dynamics library.\n",
            "Recursive model established,2.4803147435188295\n"
          ],
          "name": "stdout"
        }
      ]
    }
  ]
}