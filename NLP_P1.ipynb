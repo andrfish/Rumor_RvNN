{
  "nbformat": 4,
  "nbformat_minor": 0,
  "metadata": {
    "colab": {
      "name": "NLP-P1.ipynb",
      "version": "0.3.2",
      "provenance": [],
      "collapsed_sections": [],
      "include_colab_link": true
    },
    "kernelspec": {
      "name": "python3",
      "display_name": "Python 3"
    },
    "accelerator": "GPU"
  },
  "cells": [
    {
      "cell_type": "markdown",
      "metadata": {
        "id": "view-in-github",
        "colab_type": "text"
      },
      "source": [
        "<a href=\"https://colab.research.google.com/github/andrfish/Rumor_RvNN/blob/master/NLP_P1.ipynb\" target=\"_parent\"><img src=\"https://colab.research.google.com/assets/colab-badge.svg\" alt=\"Open In Colab\"/></a>"
      ]
    },
    {
      "cell_type": "code",
      "metadata": {
        "id": "ba_2KM6DA1k6",
        "colab_type": "code",
        "colab": {}
      },
      "source": [
        "# First, run this to get the code, config file, and dependenices\n",
        "!git clone https://github.com/andrfish/Rumor_RvNN.git\n",
        "\n",
        "!echo \"[global]\" >> ~/.theanorc\n",
        "!echo \"device=cuda\" >> ~/.theanorc\n",
        "!echo \"floatx=float32\" >> ~/.theanorc\n",
        "\n",
        "!git clone https://github.com/Theano/libgpuarray.git\n",
        "%cd libgpuarray\n",
        "!mkdir Build\n",
        "%cd Build\n",
        "!cmake .. -DCMAKE_BUILD_TYPE=Release\n",
        "!make\n",
        "!make install\n",
        "%cd ..\n",
        "\n",
        "!python setup.py build\n",
        "!python setup.py install\n",
        "\n",
        "!ldconfig"
      ],
      "execution_count": 0,
      "outputs": []
    },
    {
      "cell_type": "code",
      "metadata": {
        "id": "prQ0eVonBTRK",
        "colab_type": "code",
        "colab": {}
      },
      "source": [
        "# Then, run this to run the top down algorithm's script\n",
        "%cd /content/Rumor_RvNN/model/\n",
        "!python Main_TD_RvNN.py"
      ],
      "execution_count": 0,
      "outputs": []
    },
    {
      "cell_type": "code",
      "metadata": {
        "id": "1RCgR-hjXR4O",
        "colab_type": "code",
        "colab": {}
      },
      "source": [
        "# Lastly, run this to run the bottom up algorithm's script\n",
        "%cd /content/Rumor_RvNN/model/\n",
        "!python Main_BU_RvNN.py"
      ],
      "execution_count": 0,
      "outputs": []
    }
  ]
}