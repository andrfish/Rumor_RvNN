{
  "nbformat": 4,
  "nbformat_minor": 0,
  "metadata": {
    "colab": {
      "name": "NLP-P1.ipynb",
      "version": "0.3.2",
      "provenance": [],
      "collapsed_sections": [],
      "include_colab_link": true
    },
    "kernelspec": {
      "name": "python3",
      "display_name": "Python 3"
    },
    "accelerator": "GPU"
  },
  "cells": [
    {
      "cell_type": "markdown",
      "metadata": {
        "id": "view-in-github",
        "colab_type": "text"
      },
      "source": [
        "<a href=\"https://colab.research.google.com/github/andrfish/Rumor_RvNN/blob/master/NLP_P1.ipynb\" target=\"_parent\"><img src=\"https://colab.research.google.com/assets/colab-badge.svg\" alt=\"Open In Colab\"/></a>"
      ]
    },
    {
      "cell_type": "code",
      "metadata": {
        "id": "ba_2KM6DA1k6",
        "colab_type": "code",
        "colab": {
          "base_uri": "https://localhost:8080/",
          "height": 136
        },
        "outputId": "49f6f820-c825-427c-e824-fb65f62fcc3e"
      },
      "source": [
        "# First, run this to get the code\n",
        "!git clone https://github.com/andrfish/Rumor_RvNN.git"
      ],
      "execution_count": 1,
      "outputs": [
        {
          "output_type": "stream",
          "text": [
            "Cloning into 'Rumor_RvNN'...\n",
            "remote: Enumerating objects: 4, done.\u001b[K\n",
            "remote: Counting objects: 100% (4/4), done.\u001b[K\n",
            "remote: Compressing objects: 100% (4/4), done.\u001b[K\n",
            "remote: Total 143 (delta 0), reused 1 (delta 0), pack-reused 139\u001b[K\n",
            "Receiving objects: 100% (143/143), 4.39 MiB | 20.92 MiB/s, done.\n",
            "Resolving deltas: 100% (81/81), done.\n"
          ],
          "name": "stdout"
        }
      ]
    },
    {
      "cell_type": "code",
      "metadata": {
        "id": "prQ0eVonBTRK",
        "colab_type": "code",
        "colab": {}
      },
      "source": [
        "# Then, run this to run the top down algorithm's script\n",
        "%cd /content/Rumor_RvNN/model/\n",
        "!python Main_TD_RvNN.py"
      ],
      "execution_count": 0,
      "outputs": []
    },
    {
      "cell_type": "code",
      "metadata": {
        "id": "1RCgR-hjXR4O",
        "colab_type": "code",
        "colab": {}
      },
      "source": [
        "# Lastly, run this to run the bottom up algorithm's script\n",
        "%cd /content/Rumor_RvNN/model/\n",
        "!python Main_BU_RvNN.py"
      ],
      "execution_count": 0,
      "outputs": []
    }
  ]
}